{
 "cells": [
  {
   "cell_type": "code",
   "execution_count": 1,
   "metadata": {},
   "outputs": [],
   "source": [
    "import findspark\n",
    "findspark.init(\"/usr/local/spark\")\n",
    "\n",
    "import os\n",
    "del os.environ[\"PATH\"]\n",
    "\n",
    "from pyspark import SparkContext, SparkConf\n",
    "\n",
    "sc = SparkContext.getOrCreate()"
   ]
  },
  {
   "cell_type": "code",
   "execution_count": 4,
   "metadata": {},
   "outputs": [
    {
     "data": {
      "text/plain": [
       "[1, 4, 9]"
      ]
     },
     "execution_count": 4,
     "metadata": {},
     "output_type": "execute_result"
    }
   ],
   "source": [
    "sc.parallelize([1,2,3]).map(lambda x: x*x).collect()"
   ]
  },
  {
   "cell_type": "code",
   "execution_count": null,
   "metadata": {},
   "outputs": [],
   "source": []
  },
  {
   "cell_type": "code",
   "execution_count": 2,
   "metadata": {},
   "outputs": [
    {
     "data": {
      "text/plain": [
       "environ{'HOSTNAME': 'bf42083df3ae',\n",
       "        'TERM': 'xterm-color',\n",
       "        'JAVA_HOME': '/usr/lib/jvm/java-1.8.0-openjdk-amd64',\n",
       "        'HADOOP_HOME': '/usr/local/hadoop',\n",
       "        'SPARK_HOME': '/usr/local/spark',\n",
       "        'HADOOP_CONF_DIR': '/usr/local/hadoop/etc/hadoop',\n",
       "        'HDFS_NAMENODE_USER': 'root',\n",
       "        'HDFS_DATANODE_USER': 'root',\n",
       "        'HDFS_SECONDARYNAMENODE_USER': 'root',\n",
       "        'YARN_RESOURCEMANAGER_USER': 'root',\n",
       "        'YARN_NODEMANAGER_USER': 'root',\n",
       "        'HADOOP_SSH_OPTS': '-p 22',\n",
       "        'HIVE_CONF_DIR': '/usr/local/hive/conf',\n",
       "        'HIVE_HOME': '/usr/local/hive',\n",
       "        'PYSPARK_PYTHON': 'python3',\n",
       "        'HOME': '/home/hadoop',\n",
       "        'KERNEL_LAUNCH_TIMEOUT': '40',\n",
       "        'JPY_PARENT_PID': '193',\n",
       "        'CLICOLOR': '1',\n",
       "        'PAGER': 'cat',\n",
       "        'GIT_PAGER': 'cat',\n",
       "        'MPLBACKEND': 'module://ipykernel.pylab.backend_inline'}"
      ]
     },
     "execution_count": 2,
     "metadata": {},
     "output_type": "execute_result"
    }
   ],
   "source": [
    "os.environ"
   ]
  },
  {
   "cell_type": "code",
   "execution_count": 6,
   "metadata": {},
   "outputs": [
    {
     "data": {
      "text/plain": [
       "'2.4.4'"
      ]
     },
     "execution_count": 6,
     "metadata": {},
     "output_type": "execute_result"
    }
   ],
   "source": [
    "import pyspark\n",
    "pyspark.__version__"
   ]
  },
  {
   "cell_type": "code",
   "execution_count": 3,
   "metadata": {},
   "outputs": [
    {
     "data": {
      "text/plain": [
       "environ{'PATH': '/bin:/usr/local/sbin:/usr/local/bin:/usr/sbin:/usr/bin:/sbin:/usr/local/hadoop/bin:/usr/local/spark/bin:/usr/lib/jvm/java-1.11.0-openjdk-amd64/bin:/usr/local/hive/bin',\n",
       "        'HOSTNAME': 'bf42083df3ae',\n",
       "        'TERM': 'xterm-color',\n",
       "        'JAVA_HOME': '/usr/lib/jvm/java-1.8.0-openjdk-amd64',\n",
       "        'HADOOP_HOME': '/usr/local/hadoop',\n",
       "        'SPARK_HOME': '/usr/local/spark',\n",
       "        'HADOOP_CONF_DIR': '/usr/local/hadoop/etc/hadoop',\n",
       "        'HDFS_NAMENODE_USER': 'root',\n",
       "        'HDFS_DATANODE_USER': 'root',\n",
       "        'HDFS_SECONDARYNAMENODE_USER': 'root',\n",
       "        'YARN_RESOURCEMANAGER_USER': 'root',\n",
       "        'YARN_NODEMANAGER_USER': 'root',\n",
       "        'HADOOP_SSH_OPTS': '-p 22',\n",
       "        'HIVE_CONF_DIR': '/usr/local/hive/conf',\n",
       "        'HIVE_HOME': '/usr/local/hive',\n",
       "        'PYSPARK_PYTHON': 'python3',\n",
       "        'HOME': '/home/hadoop',\n",
       "        'KERNEL_LAUNCH_TIMEOUT': '40',\n",
       "        'JPY_PARENT_PID': '193',\n",
       "        'CLICOLOR': '1',\n",
       "        'PAGER': 'cat',\n",
       "        'GIT_PAGER': 'cat',\n",
       "        'MPLBACKEND': 'module://ipykernel.pylab.backend_inline'}"
      ]
     },
     "execution_count": 3,
     "metadata": {},
     "output_type": "execute_result"
    }
   ],
   "source": [
    "import os\n",
    "os.environ"
   ]
  },
  {
   "cell_type": "code",
   "execution_count": null,
   "metadata": {},
   "outputs": [],
   "source": []
  }
 ],
 "metadata": {
  "kernelspec": {
   "display_name": "Python 3",
   "language": "python",
   "name": "python3"
  },
  "language_info": {
   "codemirror_mode": {
    "name": "ipython",
    "version": 3
   },
   "file_extension": ".py",
   "mimetype": "text/x-python",
   "name": "python",
   "nbconvert_exporter": "python",
   "pygments_lexer": "ipython3",
   "version": "3.6.8"
  }
 },
 "nbformat": 4,
 "nbformat_minor": 2
}
